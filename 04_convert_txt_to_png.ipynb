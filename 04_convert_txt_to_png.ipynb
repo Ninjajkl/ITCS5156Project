{
 "cells": [
  {
   "cell_type": "code",
   "execution_count": 110,
   "metadata": {},
   "outputs": [],
   "source": [
    "import numpy as np\n",
    "import os\n",
    "from PIL import Image\n",
    "import matplotlib.pyplot as plt"
   ]
  },
  {
   "cell_type": "code",
   "execution_count": 111,
   "metadata": {},
   "outputs": [],
   "source": [
    "#Not Original\n",
    "#Dictionary of each character's respective png file location\n",
    "chars2pngs = {    \n",
    "    \"-\": Image.open(f'tiles/smb-background.png'),\n",
    "    \"X\": Image.open(f'tiles/smb-unpassable.png'),\n",
    "    \"S\": Image.open(f'tiles/smb-breakable.png'),\n",
    "    \"?\": Image.open(f'tiles/smb-question.png'),\n",
    "    \"Q\": Image.open(f'tiles/smb-question.png'),\n",
    "    \"o\": Image.open(f'tiles/smb-coin.png'),\n",
    "    \"E\": Image.open(f'tiles/smb-enemy.png'),\n",
    "    \"<\": Image.open(f'tiles/smb-tube-top-left.png'),\n",
    "    \">\": Image.open(f'tiles/smb-tube-top-right.png'),\n",
    "    \"[\": Image.open(f'tiles/smb-tube-lower-left.png'),\n",
    "    \"]\": Image.open(f'tiles/smb-tube-lower-right.png'),\n",
    "    \"x\": Image.open(f'tiles/smb-path.png'),\n",
    "    \"Y\": Image.open(f'tiles/Y.png'),  # unused\n",
    "    \"d\": Image.open(f'tiles/N.png'),  # unused\n",
    "    \"B\": Image.open(f'tiles/cannon_top.png'),\n",
    "    \"b\": Image.open(f'tiles/cannon_bottom.png'), \n",
    "}\n"
   ]
  },
  {
   "cell_type": "code",
   "execution_count": 112,
   "metadata": {},
   "outputs": [],
   "source": [
    "#Not Original\n",
    "#Convert a 16-by-16 array of integers into a PIL.Image object\n",
    "#param: array: a 16-by-16 array of integers\n",
    "def char_array_to_image(array):\n",
    "    image = Image.new('RGB',(array.shape[1] * 16, array.shape[0] * 16))\n",
    "    for row, seg in enumerate(array):\n",
    "        for col, char in enumerate(seg):\n",
    "            image.paste(chars2pngs[char], (col * 16, row * 16))\n",
    "    return image"
   ]
  },
  {
   "cell_type": "code",
   "execution_count": 115,
   "metadata": {},
   "outputs": [],
   "source": [
    "#Specifiy the hyperparameters of the levels you want to see\n",
    "snaking = False\n",
    "pathing = True\n",
    "column_depth = False\n",
    "\n",
    "folder_address = \"\"\n",
    "folder_address += \"Y\" if snaking else \"N\"\n",
    "folder_address += \"Y\" if pathing else \"N\"\n",
    "folder_address += \"Y\" if column_depth else \"N\"\n",
    "folder_address += \"/\"\n",
    "\n",
    "directory = f'generated_levels_png/{folder_address}'\n",
    "if not os.path.exists(directory):\n",
    "    os.makedirs(directory)"
   ]
  },
  {
   "cell_type": "code",
   "execution_count": null,
   "metadata": {},
   "outputs": [],
   "source": [
    "#Not Original\n",
    "#Converts each level sequence to a png of the whole level\n",
    "for i in range(100):\n",
    "    with open(f'generated_levels_txt/{folder_address}{i+1:03}.txt',  'r') as txt_f:\n",
    "        infile = np.array([list(line.rstrip()) for line in txt_f.readlines()])\n",
    "    plt.figure(figsize=(20, 4))\n",
    "    plt.imshow(char_array_to_image(infile))\n",
    "    plt.axis('off')\n",
    "    plt.savefig(f'generated_levels_png/{folder_address}{i+1:03}.png', dpi=200, bbox_inches='tight')"
   ]
  },
  {
   "cell_type": "code",
   "execution_count": null,
   "metadata": {},
   "outputs": [],
   "source": []
  }
 ],
 "metadata": {
  "kernelspec": {
   "display_name": "Python 3 (ipykernel)",
   "language": "python",
   "name": "python3"
  },
  "language_info": {
   "codemirror_mode": {
    "name": "ipython",
    "version": 3
   },
   "file_extension": ".py",
   "mimetype": "text/x-python",
   "name": "python",
   "nbconvert_exporter": "python",
   "pygments_lexer": "ipython3",
   "version": "3.12.2"
  },
  "toc": {
   "base_numbering": 1,
   "nav_menu": {},
   "number_sections": true,
   "sideBar": true,
   "skip_h1_title": false,
   "title_cell": "Table of Contents",
   "title_sidebar": "Contents",
   "toc_cell": false,
   "toc_position": {},
   "toc_section_display": true,
   "toc_window_display": false
  },
  "varInspector": {
   "cols": {
    "lenName": 16,
    "lenType": 16,
    "lenVar": 40
   },
   "kernels_config": {
    "python": {
     "delete_cmd_postfix": "",
     "delete_cmd_prefix": "del ",
     "library": "var_list.py",
     "varRefreshCmd": "print(var_dic_list())"
    },
    "r": {
     "delete_cmd_postfix": ") ",
     "delete_cmd_prefix": "rm(",
     "library": "var_list.r",
     "varRefreshCmd": "cat(var_dic_list()) "
    }
   },
   "types_to_exclude": [
    "module",
    "function",
    "builtin_function_or_method",
    "instance",
    "_Feature"
   ],
   "window_display": false
  }
 },
 "nbformat": 4,
 "nbformat_minor": 4
}
