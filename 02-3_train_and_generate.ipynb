{
 "cells": [
  {
   "cell_type": "markdown",
   "metadata": {},
   "source": [
    "## Import"
   ]
  },
  {
   "cell_type": "code",
   "execution_count": 1,
   "metadata": {},
   "outputs": [],
   "source": [
    "import numpy as np\n",
    "import matplotlib.pyplot as plt\n",
    "import json\n",
    "import time\n",
    "import csv\n",
    "import os\n",
    "from scipy.stats import linregress\n",
    "import torch\n",
    "import torch.nn as nn\n",
    "import torch.nn.functional as F\n",
    "from torch.utils.data import DataLoader, TensorDataset\n",
    "\n",
    "from parse_preprocessed_data import get_inputs_and_targets\n",
    "from LSTM_Model import LSTMModel\n",
    "\n",
    "device = torch.device(\"cuda\" if torch.cuda.is_available() else \"cpu\")"
   ]
  },
  {
   "cell_type": "markdown",
   "metadata": {},
   "source": [
    "## Hyper-Parameters"
   ]
  },
  {
   "cell_type": "code",
   "execution_count": 2,
   "metadata": {},
   "outputs": [],
   "source": [
    "#These hyper-paramters are identical to the Github's to test differences\n",
    "seq_length = 200\n",
    "\n",
    "hidden_size = 512\n",
    "learning_rate = 2e-3\n",
    "dropout = 0.5\n",
    "batch_size = 100\n",
    "num_layers = 3\n",
    "max_epochs = 20\n",
    "validation_prop = 0.2\n",
    "\n",
    "snaking = False\n",
    "pathing = False\n",
    "column_depth = False"
   ]
  },
  {
   "cell_type": "markdown",
   "metadata": {},
   "source": [
    "## Load Data"
   ]
  },
  {
   "cell_type": "code",
   "execution_count": 3,
   "metadata": {},
   "outputs": [
    {
     "name": "stdout",
     "output_type": "stream",
     "text": [
      "Unique chars: ['\\n', '-', '<', '>', '?', 'B', 'E', 'Q', 'S', 'X', '[', ']', 'b', 'd', 'o', 'x']\n",
      "Number of unique chars: 16\n"
     ]
    },
    {
     "data": {
      "application/vnd.jupyter.widget-view+json": {
       "model_id": "",
       "version_major": 2,
       "version_minor": 0
      },
      "text/plain": [
       "  0%|          | 0/36 [00:00<?, ?it/s]"
      ]
     },
     "metadata": {},
     "output_type": "display_data"
    },
    {
     "data": {
      "text/plain": [
       "(16, (146976, 200, 16), (146976, 200))"
      ]
     },
     "execution_count": 3,
     "metadata": {},
     "output_type": "execute_result"
    }
   ],
   "source": [
    "#Not Original\n",
    "char_to_ix, ix_to_char, vocab_size, inputs, targets = get_inputs_and_targets('data_preprocessed/mario.txt', seq_length, snaking, pathing, column_depth)\n",
    "vocab_size, inputs.shape, targets.shape\n",
    "\n",
    "#inputs is (num_sequences, seq_length, vocab_size), and is one-hot encoded\n",
    "#targets is (num_sequence, seq_length)"
   ]
  },
  {
   "cell_type": "code",
   "execution_count": 4,
   "metadata": {},
   "outputs": [],
   "source": [
    "#Save the starting seed\n",
    "first_three_cols = inputs[0][:3 * 17]\n",
    "np.savetxt('data_preprocessed/seed.txt', first_three_cols)"
   ]
  },
  {
   "cell_type": "code",
   "execution_count": 5,
   "metadata": {},
   "outputs": [],
   "source": [
    "#Convert the inputs and targets into tensors and load them into a dataset, then DataLoader\n",
    "inputs_tensor = torch.tensor(inputs)\n",
    "targets_tensor = torch.tensor(targets)\n",
    "\n",
    "train_dataset = TensorDataset(inputs_tensor, targets_tensor)\n",
    "train_loader = DataLoader(train_dataset, batch_size=batch_size, shuffle=True)"
   ]
  },
  {
   "cell_type": "markdown",
   "metadata": {},
   "source": [
    "## Model"
   ]
  },
  {
   "cell_type": "code",
   "execution_count": 6,
   "metadata": {},
   "outputs": [],
   "source": [
    "#Initialize model\n",
    "model = LSTMModel(vocab_size, hidden_size, num_layers, dropout).to(device)"
   ]
  },
  {
   "cell_type": "code",
   "execution_count": 7,
   "metadata": {},
   "outputs": [],
   "source": [
    "#Set the loss and optimizer functions\n",
    "criterion = nn.CrossEntropyLoss()\n",
    "optimizer = torch.optim.Adam(model.parameters(), lr=learning_rate)"
   ]
  },
  {
   "cell_type": "markdown",
   "metadata": {},
   "source": [
    "## Train Model"
   ]
  },
  {
   "cell_type": "code",
   "execution_count": 8,
   "metadata": {},
   "outputs": [
    {
     "name": "stdout",
     "output_type": "stream",
     "text": [
      "Epoch [1/20], Loss: 0.2880, Accuracy: 0.9162, Time: 50.07 seconds\n",
      "Epoch [2/20], Loss: 0.1093, Accuracy: 0.9641, Time: 55.33 seconds\n",
      "Epoch [3/20], Loss: 0.0904, Accuracy: 0.9702, Time: 54.36 seconds\n",
      "Epoch [4/20], Loss: 0.0733, Accuracy: 0.9759, Time: 49.80 seconds\n",
      "Epoch [5/20], Loss: 0.0699, Accuracy: 0.9771, Time: 49.28 seconds\n",
      "Epoch [6/20], Loss: 0.0659, Accuracy: 0.9783, Time: 49.22 seconds\n",
      "Epoch [7/20], Loss: 0.0637, Accuracy: 0.9790, Time: 48.89 seconds\n",
      "Epoch [8/20], Loss: 0.0631, Accuracy: 0.9791, Time: 49.33 seconds\n",
      "Epoch [9/20], Loss: 0.0620, Accuracy: 0.9795, Time: 50.27 seconds\n",
      "Epoch [10/20], Loss: 0.0616, Accuracy: 0.9796, Time: 49.88 seconds\n",
      "Epoch [11/20], Loss: 0.0637, Accuracy: 0.9789, Time: 50.00 seconds\n",
      "Epoch [12/20], Loss: 0.0605, Accuracy: 0.9799, Time: 49.03 seconds\n",
      "Epoch [13/20], Loss: 0.0600, Accuracy: 0.9800, Time: 49.42 seconds\n",
      "Epoch [14/20], Loss: 0.0598, Accuracy: 0.9801, Time: 49.19 seconds\n",
      "Epoch [15/20], Loss: 0.0602, Accuracy: 0.9800, Time: 49.00 seconds\n",
      "Epoch [16/20], Loss: 0.0597, Accuracy: 0.9801, Time: 49.18 seconds\n",
      "Epoch [17/20], Loss: 0.0592, Accuracy: 0.9802, Time: 48.92 seconds\n",
      "Epoch [18/20], Loss: 0.0595, Accuracy: 0.9802, Time: 49.33 seconds\n",
      "Epoch [19/20], Loss: 0.0590, Accuracy: 0.9803, Time: 49.02 seconds\n",
      "Epoch [20/20], Loss: 0.0591, Accuracy: 0.9803, Time: 48.84 seconds\n"
     ]
    }
   ],
   "source": [
    "#Train the model\n",
    "\n",
    "#Lists to store loss and accuracy values for each epoch\n",
    "loss_values = []\n",
    "accuracy_values = []\n",
    "\n",
    "for epoch in range(max_epochs):\n",
    "    model.train()\n",
    "    total_loss = 0.0\n",
    "    total_correct = 0\n",
    "\n",
    "    #Record the start time of the epoch\n",
    "    start_time = time.time()\n",
    "\n",
    "    num_batch_targets = 0\n",
    "    for batch_inputs, batch_targets in train_loader:\n",
    "        batch_inputs = batch_inputs.to(device)\n",
    "        batch_targets = batch_targets.to(device)\n",
    "\n",
    "        #Clear gradients from previous iteration\n",
    "        optimizer.zero_grad()\n",
    "        \n",
    "        #Forward pass\n",
    "        outputs, _ = model(batch_inputs)\n",
    "        \n",
    "        #Reshape outputs and targets to have the same batch size\n",
    "        outputs_flat = outputs.view(-1, outputs.size(-1))\n",
    "        targets_flat = batch_targets.view(-1)\n",
    "        \n",
    "        #Calculate loss\n",
    "        loss = criterion(outputs_flat, targets_flat.long())\n",
    "        \n",
    "        #Backward pass/ Compute gradients\n",
    "        loss.backward()\n",
    "        \n",
    "        #Update weights\n",
    "        optimizer.step()\n",
    "\n",
    "        #Accumulate loss for the entire batch\n",
    "        total_loss += loss.item() * batch_inputs.size(0)\n",
    "\n",
    "        #Calculate accuracy for the batch\n",
    "        _, predicted = torch.max(outputs, 2)\n",
    "        correct = (predicted == batch_targets).sum().item()\n",
    "        total_correct += correct\n",
    "        num_batch_targets += len(batch_targets) * len(batch_targets[0])\n",
    "    \n",
    "    #Calculate average loss and accuracy for the epoch\n",
    "    epoch_loss = total_loss / len(train_loader.dataset)\n",
    "    epoch_accuracy = total_correct / num_batch_targets\n",
    "\n",
    "    #Stor loss and accuracy values to plot later\n",
    "    loss_values.append(epoch_loss)\n",
    "    accuracy_values.append(epoch_accuracy)\n",
    "\n",
    "    #Calculate the time taken for the epoch\n",
    "    epoch_time = time.time() - start_time\n",
    "    \n",
    "    #Print per-epoch loss and accuracy\n",
    "    print(f'Epoch [{epoch+1}/{max_epochs}], Loss: {epoch_loss:.4f}, Accuracy: {epoch_accuracy:.4f}, Time: {epoch_time:.2f} seconds')"
   ]
  },
  {
   "cell_type": "code",
   "execution_count": 9,
   "metadata": {},
   "outputs": [
    {
     "data": {
      "image/png": "[encoded data removed]",
      "text/plain": [
       "<Figure size 640x480 with 1 Axes>"
      ]
     },
     "metadata": {},
     "output_type": "display_data"
    },
    {
     "data": {
      "image/png": "[encoded data removed]",
      "text/plain": [
       "<Figure size 640x480 with 1 Axes>"
      ]
     },
     "metadata": {},
     "output_type": "display_data"
    }
   ],
   "source": [
    "#Plot training loss over epochs\n",
    "plt.plot(range(1, max_epochs + 1), loss_values, label='Training Loss')\n",
    "plt.xlabel('Epoch')\n",
    "plt.ylabel('Loss')\n",
    "plt.title('Training Loss over Epochs')\n",
    "plt.legend()\n",
    "plt.show()\n",
    "\n",
    "#Plot training accuracy over epochs\n",
    "plt.plot(range(1, max_epochs + 1), accuracy_values, label='Training Accuracy', color='green')\n",
    "plt.xlabel('Epoch')\n",
    "plt.ylabel('Accuracy')\n",
    "plt.title('Training Accuracy over Epochs')\n",
    "plt.legend()\n",
    "plt.show()"
   ]
  },
  {
   "cell_type": "markdown",
   "metadata": {},
   "source": [
    "## Generate Levels"
   ]
  },
  {
   "cell_type": "code",
   "execution_count": 10,
   "metadata": {},
   "outputs": [],
   "source": [
    "#Not Original\n",
    "\n",
    "#'seed' is a starting one-hot encoded sequence used as the beginning of each level\n",
    "seed = np.loadtxt('data_preprocessed/seed.txt', dtype=float)[:3*17 - 1].copy()"
   ]
  },
  {
   "cell_type": "code",
   "execution_count": 11,
   "metadata": {},
   "outputs": [],
   "source": [
    "#Not Original\n",
    "\n",
    "#Converts the one-hot output of the model into a string\n",
    "def onehot_to_string(onehot):\n",
    "    ints = np.argmax(onehot, axis=-1)\n",
    "    chars = [ix_to_char[ix] for ix in ints]\n",
    "    string = \"\".join(chars)\n",
    "    char_array = []\n",
    "    for line in string.rstrip().split('\\n')[:-1]:\n",
    "        if len(line) == 16:\n",
    "            char_array.append(list(line))\n",
    "        elif len(line) > 16:\n",
    "            char_array.append(list(line[:16]))\n",
    "        elif len(line) < 16:\n",
    "            char_array.append(['-'] * (16 - len(line)) + list(line))\n",
    "    char_array = np.array(char_array).T\n",
    "    string = \"\"\n",
    "    for row in char_array:\n",
    "        string += \"\".join(row) + \"\\n\"\n",
    "    return string"
   ]
  },
  {
   "cell_type": "code",
   "execution_count": 12,
   "metadata": {},
   "outputs": [
    {
     "name": "stdout",
     "output_type": "stream",
     "text": [
      "[[0. 0. 0. 0. 0. 0. 0. 0. 0. 1. 0. 0. 0. 0. 0. 0.]\n",
      " [0. 1. 0. 0. 0. 0. 0. 0. 0. 0. 0. 0. 0. 0. 0. 0.]\n",
      " [0. 1. 0. 0. 0. 0. 0. 0. 0. 0. 0. 0. 0. 0. 0. 0.]\n",
      " [0. 1. 0. 0. 0. 0. 0. 0. 0. 0. 0. 0. 0. 0. 0. 0.]\n",
      " [0. 1. 0. 0. 0. 0. 0. 0. 0. 0. 0. 0. 0. 0. 0. 0.]\n",
      " [0. 1. 0. 0. 0. 0. 0. 0. 0. 0. 0. 0. 0. 0. 0. 0.]\n",
      " [0. 1. 0. 0. 0. 0. 0. 0. 0. 0. 0. 0. 0. 0. 0. 0.]\n",
      " [0. 1. 0. 0. 0. 0. 0. 0. 0. 0. 0. 0. 0. 0. 0. 0.]\n",
      " [0. 1. 0. 0. 0. 0. 0. 0. 0. 0. 0. 0. 0. 0. 0. 0.]\n",
      " [0. 1. 0. 0. 0. 0. 0. 0. 0. 0. 0. 0. 0. 0. 0. 0.]\n",
      " [0. 1. 0. 0. 0. 0. 0. 0. 0. 0. 0. 0. 0. 0. 0. 0.]\n",
      " [0. 1. 0. 0. 0. 0. 0. 0. 0. 0. 0. 0. 0. 0. 0. 0.]\n",
      " [0. 1. 0. 0. 0. 0. 0. 0. 0. 0. 0. 0. 0. 0. 0. 0.]\n",
      " [0. 1. 0. 0. 0. 0. 0. 0. 0. 0. 0. 0. 0. 0. 0. 0.]\n",
      " [0. 1. 0. 0. 0. 0. 0. 0. 0. 0. 0. 0. 0. 0. 0. 0.]\n",
      " [0. 1. 0. 0. 0. 0. 0. 0. 0. 0. 0. 0. 0. 0. 0. 0.]\n",
      " [1. 0. 0. 0. 0. 0. 0. 0. 0. 0. 0. 0. 0. 0. 0. 0.]\n",
      " [0. 1. 0. 0. 0. 0. 0. 0. 0. 0. 0. 0. 0. 0. 0. 0.]\n",
      " [0. 1. 0. 0. 0. 0. 0. 0. 0. 0. 0. 0. 0. 0. 0. 0.]\n",
      " [0. 1. 0. 0. 0. 0. 0. 0. 0. 0. 0. 0. 0. 0. 0. 0.]\n",
      " [0. 1. 0. 0. 0. 0. 0. 0. 0. 0. 0. 0. 0. 0. 0. 0.]\n",
      " [0. 1. 0. 0. 0. 0. 0. 0. 0. 0. 0. 0. 0. 0. 0. 0.]\n",
      " [0. 1. 0. 0. 0. 0. 0. 0. 0. 0. 0. 0. 0. 0. 0. 0.]\n",
      " [0. 1. 0. 0. 0. 0. 0. 0. 0. 0. 0. 0. 0. 0. 0. 0.]\n",
      " [0. 1. 0. 0. 0. 0. 0. 0. 0. 0. 0. 0. 0. 0. 0. 0.]\n",
      " [0. 1. 0. 0. 0. 0. 0. 0. 0. 0. 0. 0. 0. 0. 0. 0.]\n",
      " [0. 1. 0. 0. 0. 0. 0. 0. 0. 0. 0. 0. 0. 0. 0. 0.]\n",
      " [0. 1. 0. 0. 0. 0. 0. 0. 0. 0. 0. 0. 0. 0. 0. 0.]\n",
      " [0. 1. 0. 0. 0. 0. 0. 0. 0. 0. 0. 0. 0. 0. 0. 0.]\n",
      " [0. 1. 0. 0. 0. 0. 0. 0. 0. 0. 0. 0. 0. 0. 0. 0.]\n",
      " [0. 1. 0. 0. 0. 0. 0. 0. 0. 0. 0. 0. 0. 0. 0. 0.]\n",
      " [0. 0. 0. 0. 0. 0. 0. 0. 0. 0. 0. 0. 0. 0. 0. 1.]\n",
      " [0. 0. 0. 0. 0. 0. 0. 0. 0. 1. 0. 0. 0. 0. 0. 0.]\n",
      " [1. 0. 0. 0. 0. 0. 0. 0. 0. 0. 0. 0. 0. 0. 0. 0.]\n",
      " [0. 0. 0. 0. 0. 0. 0. 0. 0. 1. 0. 0. 0. 0. 0. 0.]\n",
      " [0. 1. 0. 0. 0. 0. 0. 0. 0. 0. 0. 0. 0. 0. 0. 0.]\n",
      " [0. 1. 0. 0. 0. 0. 0. 0. 0. 0. 0. 0. 0. 0. 0. 0.]\n",
      " [0. 1. 0. 0. 0. 0. 0. 0. 0. 0. 0. 0. 0. 0. 0. 0.]\n",
      " [0. 1. 0. 0. 0. 0. 0. 0. 0. 0. 0. 0. 0. 0. 0. 0.]\n",
      " [0. 1. 0. 0. 0. 0. 0. 0. 0. 0. 0. 0. 0. 0. 0. 0.]\n",
      " [0. 1. 0. 0. 0. 0. 0. 0. 0. 0. 0. 0. 0. 0. 0. 0.]\n",
      " [0. 1. 0. 0. 0. 0. 0. 0. 0. 0. 0. 0. 0. 0. 0. 0.]\n",
      " [0. 1. 0. 0. 0. 0. 0. 0. 0. 0. 0. 0. 0. 0. 0. 0.]\n",
      " [0. 1. 0. 0. 0. 0. 0. 0. 0. 0. 0. 0. 0. 0. 0. 0.]\n",
      " [0. 1. 0. 0. 0. 0. 0. 0. 0. 0. 0. 0. 0. 0. 0. 0.]\n",
      " [0. 1. 0. 0. 0. 0. 0. 0. 0. 0. 0. 0. 0. 0. 0. 0.]\n",
      " [0. 1. 0. 0. 0. 0. 0. 0. 0. 0. 0. 0. 0. 0. 0. 0.]\n",
      " [0. 1. 0. 0. 0. 0. 0. 0. 0. 0. 0. 0. 0. 0. 0. 0.]\n",
      " [0. 0. 0. 0. 0. 0. 0. 0. 0. 0. 0. 0. 0. 0. 0. 1.]\n",
      " [0. 1. 0. 0. 0. 0. 0. 0. 0. 0. 0. 0. 0. 0. 0. 0.]]\n",
      "X-\n",
      "--\n",
      "--\n",
      "--\n",
      "--\n",
      "--\n",
      "--\n",
      "--\n",
      "--\n",
      "--\n",
      "--\n",
      "--\n",
      "--\n",
      "--\n",
      "-x\n",
      "-X\n",
      "\n"
     ]
    }
   ],
   "source": [
    "#Not Original\n",
    "if pathing:\n",
    "    seedChar = 'x'\n",
    "else:\n",
    "    seedChar = '-'\n",
    "seed[17+14] = 0\n",
    "seed[17+14][char_to_ix[seedChar]] = 1\n",
    "seed[17*2+14] = 0\n",
    "seed[17*2+14][char_to_ix[seedChar]] = 1\n",
    "#The seed in its one-hot form\n",
    "print(seed)\n",
    "#The seed in its character form\n",
    "print(onehot_to_string(seed))"
   ]
  },
  {
   "cell_type": "code",
   "execution_count": 13,
   "metadata": {},
   "outputs": [],
   "source": [
    "#Not Original\n",
    "\n",
    "#Returns a copy of the seed in its one-hot encoded form\n",
    "def get_seed():\n",
    "    seed = np.loadtxt('data_preprocessed/seed.txt', dtype=float)[:3*17 - 1]\n",
    "    if pathing:\n",
    "        seedChar = 'x'\n",
    "    else:\n",
    "        seedChar = '-'\n",
    "    seed[17+14] = 0\n",
    "    seed[17+14][char_to_ix[seedChar]] = 1\n",
    "    seed[17*2+14] = 0\n",
    "    seed[17*2+14][char_to_ix[seedChar]] = 1\n",
    "    return seed"
   ]
  },
  {
   "cell_type": "code",
   "execution_count": 14,
   "metadata": {},
   "outputs": [
    {
     "name": "stdout",
     "output_type": "stream",
     "text": [
      "2560\n"
     ]
    }
   ],
   "source": [
    "#Not Original\n",
    "num_levels_to_gen = 100\n",
    "num_chunks = 10\n",
    "num_cols_per_chunk = 16\n",
    "num_rows_per_col = 16\n",
    "#Calcuates the number of characters needed to generate a num\n",
    "num_chars_to_gen = num_chunks * num_cols_per_chunk * num_rows_per_col\n",
    "print(num_chars_to_gen)"
   ]
  },
  {
   "cell_type": "code",
   "execution_count": 15,
   "metadata": {},
   "outputs": [
    {
     "name": "stdout",
     "output_type": "stream",
     "text": [
      "Level 1/100 Generated, Time: 8.56 seconds\n",
      "Level 2/100 Generated, Time: 8.54 seconds\n",
      "Level 3/100 Generated, Time: 8.85 seconds\n",
      "Level 4/100 Generated, Time: 8.41 seconds\n",
      "Level 5/100 Generated, Time: 8.33 seconds\n",
      "Level 6/100 Generated, Time: 8.28 seconds\n",
      "Level 7/100 Generated, Time: 8.12 seconds\n",
      "Level 8/100 Generated, Time: 8.83 seconds\n",
      "Level 9/100 Generated, Time: 8.35 seconds\n",
      "Level 10/100 Generated, Time: 8.80 seconds\n",
      "Level 11/100 Generated, Time: 8.40 seconds\n",
      "Level 12/100 Generated, Time: 8.38 seconds\n",
      "Level 13/100 Generated, Time: 9.10 seconds\n",
      "Level 14/100 Generated, Time: 8.29 seconds\n",
      "Level 15/100 Generated, Time: 8.37 seconds\n",
      "Level 16/100 Generated, Time: 8.07 seconds\n",
      "Level 17/100 Generated, Time: 8.21 seconds\n",
      "Level 18/100 Generated, Time: 7.85 seconds\n",
      "Level 19/100 Generated, Time: 8.85 seconds\n",
      "Level 20/100 Generated, Time: 8.91 seconds\n",
      "Level 21/100 Generated, Time: 9.05 seconds\n",
      "Level 22/100 Generated, Time: 8.75 seconds\n",
      "Level 23/100 Generated, Time: 8.88 seconds\n",
      "Level 24/100 Generated, Time: 8.61 seconds\n",
      "Level 25/100 Generated, Time: 8.94 seconds\n",
      "Level 26/100 Generated, Time: 8.56 seconds\n",
      "Level 27/100 Generated, Time: 8.42 seconds\n",
      "Level 28/100 Generated, Time: 8.54 seconds\n",
      "Level 29/100 Generated, Time: 7.97 seconds\n",
      "Level 30/100 Generated, Time: 7.89 seconds\n",
      "Level 31/100 Generated, Time: 8.27 seconds\n",
      "Level 32/100 Generated, Time: 8.41 seconds\n",
      "Level 33/100 Generated, Time: 8.56 seconds\n",
      "Level 34/100 Generated, Time: 9.10 seconds\n",
      "Level 35/100 Generated, Time: 8.92 seconds\n",
      "Level 36/100 Generated, Time: 8.51 seconds\n",
      "Level 37/100 Generated, Time: 8.65 seconds\n",
      "Level 38/100 Generated, Time: 8.77 seconds\n",
      "Level 39/100 Generated, Time: 8.96 seconds\n",
      "Level 40/100 Generated, Time: 8.34 seconds\n",
      "Level 41/100 Generated, Time: 9.26 seconds\n",
      "Level 42/100 Generated, Time: 8.55 seconds\n",
      "Level 43/100 Generated, Time: 8.66 seconds\n",
      "Level 44/100 Generated, Time: 9.16 seconds\n",
      "Level 45/100 Generated, Time: 8.82 seconds\n",
      "Level 46/100 Generated, Time: 9.06 seconds\n",
      "Level 47/100 Generated, Time: 8.96 seconds\n",
      "Level 48/100 Generated, Time: 8.88 seconds\n",
      "Level 49/100 Generated, Time: 7.62 seconds\n",
      "Level 50/100 Generated, Time: 8.99 seconds\n",
      "Level 51/100 Generated, Time: 8.83 seconds\n",
      "Level 52/100 Generated, Time: 8.88 seconds\n",
      "Level 53/100 Generated, Time: 9.13 seconds\n",
      "Level 54/100 Generated, Time: 9.29 seconds\n",
      "Level 55/100 Generated, Time: 9.49 seconds\n",
      "Level 56/100 Generated, Time: 8.94 seconds\n",
      "Level 57/100 Generated, Time: 8.43 seconds\n",
      "Level 58/100 Generated, Time: 8.42 seconds\n",
      "Level 59/100 Generated, Time: 9.20 seconds\n",
      "Level 60/100 Generated, Time: 8.40 seconds\n",
      "Level 61/100 Generated, Time: 9.13 seconds\n",
      "Level 62/100 Generated, Time: 9.57 seconds\n",
      "Level 63/100 Generated, Time: 9.17 seconds\n",
      "Level 64/100 Generated, Time: 8.55 seconds\n",
      "Level 65/100 Generated, Time: 8.78 seconds\n",
      "Level 66/100 Generated, Time: 8.89 seconds\n",
      "Level 67/100 Generated, Time: 8.69 seconds\n",
      "Level 68/100 Generated, Time: 9.18 seconds\n",
      "Level 69/100 Generated, Time: 8.86 seconds\n",
      "Level 70/100 Generated, Time: 8.85 seconds\n",
      "Level 71/100 Generated, Time: 9.14 seconds\n",
      "Level 72/100 Generated, Time: 8.61 seconds\n",
      "Level 73/100 Generated, Time: 9.01 seconds\n",
      "Level 74/100 Generated, Time: 8.66 seconds\n",
      "Level 75/100 Generated, Time: 8.96 seconds\n",
      "Level 76/100 Generated, Time: 8.60 seconds\n",
      "Level 77/100 Generated, Time: 9.17 seconds\n",
      "Level 78/100 Generated, Time: 8.93 seconds\n",
      "Level 79/100 Generated, Time: 8.91 seconds\n",
      "Level 80/100 Generated, Time: 8.97 seconds\n",
      "Level 81/100 Generated, Time: 8.81 seconds\n",
      "Level 82/100 Generated, Time: 9.06 seconds\n",
      "Level 83/100 Generated, Time: 8.83 seconds\n",
      "Level 84/100 Generated, Time: 8.70 seconds\n",
      "Level 85/100 Generated, Time: 8.78 seconds\n",
      "Level 86/100 Generated, Time: 8.62 seconds\n",
      "Level 87/100 Generated, Time: 8.98 seconds\n",
      "Level 88/100 Generated, Time: 8.29 seconds\n",
      "Level 89/100 Generated, Time: 8.59 seconds\n",
      "Level 90/100 Generated, Time: 8.65 seconds\n",
      "Level 91/100 Generated, Time: 8.64 seconds\n",
      "Level 92/100 Generated, Time: 8.81 seconds\n",
      "Level 93/100 Generated, Time: 8.35 seconds\n",
      "Level 94/100 Generated, Time: 8.93 seconds\n",
      "Level 95/100 Generated, Time: 8.62 seconds\n",
      "Level 96/100 Generated, Time: 8.84 seconds\n",
      "Level 97/100 Generated, Time: 8.75 seconds\n",
      "Level 98/100 Generated, Time: 8.53 seconds\n",
      "Level 99/100 Generated, Time: 8.66 seconds\n",
      "Level 100/100 Generated, Time: 9.16 seconds\n"
     ]
    }
   ],
   "source": [
    "#Initialize empty array to hold generated levels\n",
    "gen = []\n",
    "\n",
    "for i in range(num_levels_to_gen):\n",
    "    start_time = time.time()\n",
    "    \n",
    "    #Seed initialization\n",
    "    seed = torch.from_numpy(get_seed()).type(torch.Tensor).to(device)\n",
    "    \n",
    "    #Initialize empty array to hold generated level sequence\n",
    "    generated_seq = []\n",
    "    \n",
    "    #Initialize hidden states to be empty\n",
    "    h0 = torch.zeros(num_layers, 1, hidden_size).to(device)\n",
    "    c0 = torch.zeros(num_layers, 1, hidden_size).to(device)\n",
    "    \n",
    "    #Generate each character in the level\n",
    "    j = 0\n",
    "    while j < num_chars_to_gen:\n",
    "        #Forward pass through the model\n",
    "        output, (h0, c0) = model(seed.view(1, -1, vocab_size), (h0, c0))\n",
    "        #Get the softmax probabilties of each tile\n",
    "        output_probs = F.softmax(output, dim=-1).squeeze().cpu().detach().numpy()\n",
    "    \n",
    "        #Sample the next character, convert it to an actual char and add it to the end of the generated sequence\n",
    "        next_char_idx = np.random.choice(vocab_size, p=output_probs[-1])\n",
    "        next_char = ix_to_char[next_char_idx]\n",
    "        #If generated a column character or newline, don't add to gen sequence\n",
    "        if next_char != 'd' and next_char != '\\n':\n",
    "            generated_seq.append(next_char)\n",
    "        else:\n",
    "            j -= 1\n",
    "        \n",
    "        #Add the new char to the seed for the next iteration\n",
    "        next_char_tensor = torch.tensor(next_char_idx).to(device)\n",
    "        one_hot_tensor = F.one_hot(next_char_tensor, num_classes=vocab_size).unsqueeze(0).to(device)\n",
    "        seed = torch.cat((seed[1:].to(device), one_hot_tensor), dim=0)\n",
    "        j += 1\n",
    "\n",
    "    level_gen_time = time.time() - start_time\n",
    "    \n",
    "    #Convert generated sequence to a string, then add the new level to the generated level array\n",
    "    gen.append(''.join(generated_seq))\n",
    "    print(f'Level {i+1}/{num_levels_to_gen} Generated, Time: {level_gen_time:.2f} seconds')\n"
   ]
  },
  {
   "cell_type": "code",
   "execution_count": 16,
   "metadata": {},
   "outputs": [
    {
     "name": "stdout",
     "output_type": "stream",
     "text": [
      "2560\n"
     ]
    }
   ],
   "source": [
    "#Sample of the first level's generated sequence\n",
    "print(len(gen[0]))"
   ]
  },
  {
   "cell_type": "code",
   "execution_count": 17,
   "metadata": {},
   "outputs": [],
   "source": [
    "#The generated sequence is full of unhelpful \\n and is rotated unhelpfuly, this formats it correctly\n",
    "modified_gen = []\n",
    "for i in range(len(gen)):\n",
    "    level = gen[i]#.replace(\"\\n\",\"\")\n",
    "    columns = [level[j:j+16] for j in range(0, len(level), 16)]\n",
    "    #If snaking, flip the odd cloumns\n",
    "    if snaking:\n",
    "        for c in range(len(columns)):\n",
    "            if c % 2 == 1:\n",
    "                columns[c] = columns[c][::-1]\n",
    "    row_string = ''\n",
    "    for r in range(16):\n",
    "        row_string = row_string + ''.join([column[r] for column in columns])\n",
    "        if r < 15:\n",
    "            row_string += '\\n'\n",
    "    modified_gen.append(row_string)"
   ]
  },
  {
   "cell_type": "code",
   "execution_count": 18,
   "metadata": {},
   "outputs": [
    {
     "name": "stdout",
     "output_type": "stream",
     "text": [
      "-----------------------------------------------------------XXXXXXXXXXXX<>XXXX-XXXXXXXXXXXXXXXXXXXXXXXXXXXXXXXXXXXXXXX----XXXXXXXXXXXXXXXXXXXXXXXXXXXXXXXXXXXXXXX\n",
      "-------------------------------------------------------------xxxxxxxxxxxxxx-----[]-----[]----xxxxxxxxxxxxxxxxxxxxxxxx----xxxxxxxxxxxxx---[]----xxxxxxxxxxxxx-[]-\n",
      "xx----------------------------------xxx---------------------x-------------xx----<>-----[]---x-----------------------xxxxx------------xx--[]---x------------xx<>-\n",
      "--x--------------------------------xx--x-------------------x---E-----------xx---xx-----[]--x------------------------------------------xx-[]--x--------------xxxx\n",
      "---x------------------------------xx----x-------XXXXXXXXX-x--------Q--------xxxx-xxx---<>-x-QQQQ--QQQ------------------------------S---xx<>-x------SSSSSSS------\n",
      "----x---------------------------xxxE----------XXxxxxxxxxxx-------------------x---------xxx----------------------------------------------xxxx---------E----------\n",
      "-----x-------------------------xx-<>----------xx--------------------------------------x-------------------------------------------------------------------------\n",
      "------x-----------------------xx--[]---------x---------------------------------------x-----------------------------------------------------------o--------------\n",
      "-------x------------------xxxxx---[]--------x---------------------------------------x---------SSSSS---------------------------------SSSS------------SSSSSS------\n",
      "--------x----------------xx--xE---[]--------------------------------------------------------------------------------------------------------------------E-------\n",
      "------------------------xx---<>---[]----------------------------------------------------------------------------------------------------------------------------\n",
      "-----------------------xx----[]---[]----------------------------------------------------------------------------------------------------------------------------\n",
      "--------------------xxxx-----[]---[]----------------------------------------------------------------------------------------------------------------------------\n",
      "-------------------xx<>------[]---[]----------------------------------------------------------------------------------------------------------------------------\n",
      "-EXXXXXXXxxxxxxxxxxx-[]------[]---XX-XXX------------------------------------------------------------------------------------------------------------------------\n",
      "XXXXXXXXXXXXXXXXXXXXXXX------[]---XX----------------------------------------------------------------------------------------------------------------------------\n"
     ]
    }
   ],
   "source": [
    "#Sample of the corrected first level's generated sequence\n",
    "print(modified_gen[0])"
   ]
  },
  {
   "cell_type": "code",
   "execution_count": 19,
   "metadata": {},
   "outputs": [],
   "source": [
    "#Not Original\n",
    "\n",
    "folder_address = \"\"\n",
    "folder_address += \"Y\" if snaking else \"N\"\n",
    "folder_address += \"Y\" if pathing else \"N\"\n",
    "folder_address += \"Y\" if column_depth else \"N\"\n",
    "folder_address += \"/\"\n",
    "\n",
    "directory = f'generated_levels_txt/{folder_address}'\n",
    "if not os.path.exists(directory):\n",
    "    os.makedirs(directory)\n",
    "\n",
    "#Saves all of the generated levels as separate files, to be used later to turn into pngs\n",
    "for i, g in enumerate(modified_gen):\n",
    "    with open(f'generated_levels_txt/{folder_address}{i+1:03}.txt', 'w+') as txt_f:\n",
    "        txt_f.write(g)"
   ]
  },
  {
   "cell_type": "markdown",
   "metadata": {},
   "source": [
    "## Metric Calculations"
   ]
  },
  {
   "cell_type": "code",
   "execution_count": 20,
   "metadata": {},
   "outputs": [
    {
     "name": "stdout",
     "output_type": "stream",
     "text": [
      "S? - Y if the generator was trained on snaking data, N if bottom-to-top\n",
      "P? - Y if the generator had path information, N if not\n",
      "D? - Y if the generator had depth information, N if not\n",
      "e - The percentage of the level taken up by empty space\n",
      "d - The percentage of the level taken up by “interesting” tiles, i.e. tiles that are not simply solid or empty\n",
      "l - The leniency of the level, which is defined as the number of enemies plus the number of gaps minus the number of rewards\n",
      "R2 - The linearity of the level, i.e. how close the level can be fit to a line\n",
      "S?: True | P?: True | D?: True | Neg Loss-Log: 0.0591\n"
     ]
    }
   ],
   "source": [
    "print(f'S? - Y if the generator was trained on snaking data, N if bottom-to-top')\n",
    "print(f'P? - Y if the generator had path information, N if not')\n",
    "print(f'D? - Y if the generator had depth information, N if not')\n",
    "#print(f'C: The percentage of the levels that are completable by the simulated agent')\n",
    "print(f'e - The percentage of the level taken up by empty space')\n",
    "#print(f'n - The negative space of the level, i.e. the percentage of empty space that is actually reachable by the player')\n",
    "print(f'd - The percentage of the level taken up by “interesting” tiles, i.e. tiles that are not simply solid or empty')\n",
    "print(f'l - The leniency of the level, which is defined as the number of enemies plus the number of gaps minus the number of rewards')\n",
    "print(f'R2 - The linearity of the level, i.e. how close the level can be fit to a line')\n",
    "#print(f'j - The number of jumps in the level, i.e. the number of times the optimal path jumped')\n",
    "#print(f'C: The percentage of the levels that are completable by the simulated agent')\n",
    "#print(f'ji - The number of meaningful jumps in the level. A meaningful jump is a jump that was induced either via the presence of an enemy or the presence of a gap \\n')\n",
    "print(f'S?: {snaking} | P?: {pathing} | D?: {column_depth} | Neg Loss-Log: {epoch_loss:.4f}')"
   ]
  },
  {
   "cell_type": "code",
   "execution_count": 21,
   "metadata": {},
   "outputs": [],
   "source": [
    "#Calculates the empty space percentage of a single level\n",
    "#Empty space tiles are '-' air or 'x' path tiles\n",
    "def emptySpaceCalc(levelString):\n",
    "    emptyCount = levelString.count('-') + levelString.count('x')\n",
    "    totalCount = len(levelString) - levelString.count('\\n')\n",
    "    return emptyCount/totalCount"
   ]
  },
  {
   "cell_type": "code",
   "execution_count": 22,
   "metadata": {},
   "outputs": [],
   "source": [
    "#Calculates the 'interesting' space percentage of a single level\n",
    "#'interesting' space tiles are anything that aren't '-' air, 'x' path, or 'X' impassible tiles\n",
    "def interestingSpaceCalc(levelString):\n",
    "    uninterestingCount = levelString.count('-') + levelString.count('x') + levelString.count('X')\n",
    "    totalCount = len(levelString) - levelString.count('\\n')\n",
    "    interestingCount = totalCount - uninterestingCount\n",
    "    return interestingCount/totalCount"
   ]
  },
  {
   "cell_type": "code",
   "execution_count": 23,
   "metadata": {},
   "outputs": [],
   "source": [
    "def leniencyCalc(levelString):\n",
    "    numGoombas = levelString.count('E')\n",
    "    numCannons = (levelString.count('B') + levelString.count('b')) // 2\n",
    "    numEnemies = numGoombas + numCannons\n",
    "    numRewards = levelString.count('?') + levelString.count('Q') + levelString.count('o')\n",
    "\n",
    "    #The number of gaps will be the number of stretches of empty space on the bottom row. \n",
    "    #This will honestly not be very accurate as we don't have a simulated agent to test with\n",
    "    numGaps = 0\n",
    "    inEmptyStretch = 0\n",
    "    bottomColumn = levelString.split('\\n')[-1]\n",
    "    for char in bottomColumn:\n",
    "        if char == '-' or char == 'x':\n",
    "            inEmptyStretch = True\n",
    "        else:\n",
    "            if inEmptyStretch:\n",
    "                numGaps += 1\n",
    "            inEmptyStretch = False\n",
    "    if inEmptyStretch:\n",
    "        numGaps += 1\n",
    "    leniency = (numEnemies + numGaps) - numRewards\n",
    "    return leniency"
   ]
  },
  {
   "cell_type": "code",
   "execution_count": 24,
   "metadata": {},
   "outputs": [],
   "source": [
    "def linearityCalc(levelString):\n",
    "    level_array = levelString.split('\\n')\n",
    "    points = []\n",
    "    for r in range(len(level_array)):\n",
    "        row = level_array[r]\n",
    "        for c in range(len(row)):\n",
    "            char = row[c]\n",
    "            if char == 'X':\n",
    "                points.append([r, c])\n",
    "    points = np.array(points)\n",
    "    #Perform linear regression, get the rvalue and square it\n",
    "    #Yep, that's it \n",
    "    linearity = linregress(points[:, 0], points[:, 1]).rvalue ** 2\n",
    "    return linearity"
   ]
  },
  {
   "cell_type": "code",
   "execution_count": 25,
   "metadata": {},
   "outputs": [
    {
     "name": "stdout",
     "output_type": "stream",
     "text": [
      "Average empty space percentage: 0.8929140624999999\n",
      "Average interesting space percentage: 0.034874999999999996\n",
      "Average leniency: -1.07\n",
      "Average linearity: 0.19728332932412326\n"
     ]
    }
   ],
   "source": [
    "#Calculate the average empty space percentage\n",
    "empty_space_percentages = [emptySpaceCalc(level) for level in modified_gen]\n",
    "average_empty_space_percentage = sum(empty_space_percentages) / len(empty_space_percentages)\n",
    "print(\"Average empty space percentage:\", average_empty_space_percentage)\n",
    "\n",
    "#Calculate the average interesting space percentage\n",
    "interesting_space_percentages = [interestingSpaceCalc(level) for level in modified_gen]\n",
    "average_interesting_space_percentage = sum(interesting_space_percentages) / len(interesting_space_percentages)\n",
    "print(\"Average interesting space percentage:\", average_interesting_space_percentage)\n",
    "\n",
    "#Calculate the average leniency\n",
    "leniency_values = [leniencyCalc(level) for level in modified_gen]\n",
    "average_leniency = sum(leniency_values) / len(leniency_values)\n",
    "print(\"Average leniency:\", average_leniency)\n",
    "\n",
    "#Calculate the average linearity\n",
    "linearity_values = [linearityCalc(level) for level in modified_gen]\n",
    "average_linearity = sum(linearity_values) / len(linearity_values)\n",
    "print(\"Average linearity:\", average_linearity)"
   ]
  },
  {
   "cell_type": "markdown",
   "metadata": {},
   "source": [
    "## Store the metrics"
   ]
  },
  {
   "cell_type": "code",
   "execution_count": 26,
   "metadata": {},
   "outputs": [],
   "source": [
    "column_labels = [\"Snaking\" , \"Path Information\", \"Column Depth\", \"NLLL\", \"Empty Percentage\", \"Interesting Percentage\", \"Average Leniency\", \"Average linearity\"]\n",
    "variables = [snaking, pathing, column_depth, epoch_loss, average_empty_space_percentage, average_interesting_space_percentage, average_leniency, average_linearity]\n",
    "\n",
    "csv_file_path = \"metrics.csv\"\n",
    "file_exists = os.path.isfile(csv_file_path)\n",
    "with open(csv_file_path, mode='a', newline='') as file:\n",
    "    writer = csv.writer(file)\n",
    "    if not file_exists:\n",
    "        # Write the header row if the file is newly created\n",
    "        writer.writerow(column_labels)\n",
    "    writer.writerow(variables)"
   ]
  },
  {
   "cell_type": "code",
   "execution_count": null,
   "metadata": {},
   "outputs": [],
   "source": []
  }
 ],
 "metadata": {
  "kernelspec": {
   "display_name": "Python 3 (ipykernel)",
   "language": "python",
   "name": "python3"
  },
  "language_info": {
   "codemirror_mode": {
    "name": "ipython",
    "version": 3
   },
   "file_extension": ".py",
   "mimetype": "text/x-python",
   "name": "python",
   "nbconvert_exporter": "python",
   "pygments_lexer": "ipython3",
   "version": "3.12.3"
  },
  "toc": {
   "base_numbering": 1,
   "nav_menu": {},
   "number_sections": false,
   "sideBar": true,
   "skip_h1_title": false,
   "title_cell": "Table of Contents",
   "title_sidebar": "Contents",
   "toc_cell": false,
   "toc_position": {},
   "toc_section_display": true,
   "toc_window_display": true
  },
  "varInspector": {
   "cols": {
    "lenName": 16,
    "lenType": 16,
    "lenVar": 40
   },
   "kernels_config": {
    "python": {
     "delete_cmd_postfix": "",
     "delete_cmd_prefix": "del ",
     "library": "var_list.py",
     "varRefreshCmd": "print(var_dic_list())"
    },
    "r": {
     "delete_cmd_postfix": ") ",
     "delete_cmd_prefix": "rm(",
     "library": "var_list.r",
     "varRefreshCmd": "cat(var_dic_list()) "
    }
   },
   "types_to_exclude": [
    "module",
    "function",
    "builtin_function_or_method",
    "instance",
    "_Feature"
   ],
   "window_display": false
  }
 },
 "nbformat": 4,
 "nbformat_minor": 4
}
