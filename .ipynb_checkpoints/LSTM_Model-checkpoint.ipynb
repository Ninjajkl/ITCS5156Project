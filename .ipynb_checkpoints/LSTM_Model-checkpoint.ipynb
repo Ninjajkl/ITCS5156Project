{
 "cells": [
  {
   "cell_type": "code",
   "execution_count": 5,
   "id": "2b79012f-cb80-4d50-ae0c-7957bdc66982",
   "metadata": {},
   "outputs": [],
   "source": [
    "import torch.nn as nn\n",
    "class LSTMModel(nn.Module):\n",
    "    def __init__(self, vocab_size, hidden_size, num_layers, dropout):\n",
    "        super(CustomModel, self).__init__()\n",
    "        self.lstm = nn.LSTM(input_size=vocab_size, hidden_size=hidden_size, num_layers=num_layers, dropout=dropout)\n",
    "        self.dropout = nn.Dropout(dropout)\n",
    "        self.linear = nn.Linear(in_features=hidden_size, out_features=vocab_size)\n",
    "        self.log_softmax = nn.LogSoftmax(dim=2)\n",
    "\n",
    "    def forward(self, x):\n",
    "        output, _ = self.lstm(x)\n",
    "        output = self.dropout(output)\n",
    "        output = self.linear(output)  # Apply linear transformation\n",
    "        output = self.log_softmax(output)\n",
    "        return output"
   ]
  }
 ],
 "metadata": {
  "kernelspec": {
   "display_name": "Python 3 (ipykernel)",
   "language": "python",
   "name": "python3"
  },
  "language_info": {
   "codemirror_mode": {
    "name": "ipython",
    "version": 3
   },
   "file_extension": ".py",
   "mimetype": "text/x-python",
   "name": "python",
   "nbconvert_exporter": "python",
   "pygments_lexer": "ipython3",
   "version": "3.12.2"
  }
 },
 "nbformat": 4,
 "nbformat_minor": 5
}
